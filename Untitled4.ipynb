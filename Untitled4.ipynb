{
 "cells": [
  {
   "cell_type": "markdown",
   "id": "6b10ecd7-0acf-409d-8544-c7984c714c83",
   "metadata": {},
   "source": [
    "1 que\n",
    "API stands for \"Application Programming Interface.\" It is a set of rules and protocols that allows different software applications to communicate and interact with each other.\n",
    "A common real-life example of API usage is when you use a weather application or website to get the current weather information for your location"
   ]
  },
  {
   "cell_type": "markdown",
   "id": "1d2ac040-16f2-4392-8da9-d5381bcc82e8",
   "metadata": {},
   "source": [
    "2 que\n",
    "Advantages of Using APIs:\n",
    "Easy Integration,Reusability,Scalability,Security\n",
    "\n",
    "Disadvantages of Using APIs:\n",
    "Dependency on External Services, Lack of Control,API Versioning,Data Privacy Concerns\n"
   ]
  },
  {
   "cell_type": "markdown",
   "id": "a6b490ca-24aa-42e9-a87b-9187927d9112",
   "metadata": {},
   "source": [
    "3 que\n",
    "A Web API, also known as a web service or web application programming interface, is a type of API that is specifically designed to be accessed over the internet using standard web protocols. It allows different software applications to communicate and interact with each other over the web.\n",
    "A Web API is a specific type of API designed for web-based applications and accessed over the internet using HTTP. While API is a broader concept that encompasses various types of interfaces and communication protocols, Web API specifically focuses on providing web services and data exchange over the internet using standard web protocols."
   ]
  },
  {
   "cell_type": "markdown",
   "id": "a9fcaca1-00a5-48f3-b9f9-5c4bcd9b177a",
   "metadata": {},
   "source": [
    "4 QUE\n",
    "REST is an architectural style that follows a set of principles to design web services. It is widely used due to its simplicity, scalability, and ease of implementation\n",
    "SOAP is a protocol-based architectural style used for designing web services. It defines a set of rules and standards for exchanging structured information in the form of XML messages between applications. "
   ]
  },
  {
   "cell_type": "markdown",
   "id": "cbe7d1a8-7033-4684-bfa2-272aa2f3c2d1",
   "metadata": {},
   "source": [
    "5 QUE\n"
   ]
  }
 ],
 "metadata": {
  "kernelspec": {
   "display_name": "Python 3 (ipykernel)",
   "language": "python",
   "name": "python3"
  },
  "language_info": {
   "codemirror_mode": {
    "name": "ipython",
    "version": 3
   },
   "file_extension": ".py",
   "mimetype": "text/x-python",
   "name": "python",
   "nbconvert_exporter": "python",
   "pygments_lexer": "ipython3",
   "version": "3.10.8"
  }
 },
 "nbformat": 4,
 "nbformat_minor": 5
}
