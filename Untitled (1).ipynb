{
 "cells": [
  {
   "cell_type": "code",
   "execution_count": 1,
   "id": "56accdf1-84be-4409-aa98-9d9539f0d455",
   "metadata": {},
   "outputs": [
    {
     "data": {
      "text/plain": [
       "['php', 'aba', 'radar', 'level']"
      ]
     },
     "execution_count": 1,
     "metadata": {},
     "output_type": "execute_result"
    }
   ],
   "source": [
    "#6 que\n",
    "my=['python', 'php', 'aba', 'radar', 'level']\n",
    "list(filter(lambda x:x==x[::-1],my))\n"
   ]
  },
  {
   "cell_type": "code",
   "execution_count": 2,
   "id": "de8b06a5-2a14-4cb8-9f93-d4cc7ec7f6b4",
   "metadata": {},
   "outputs": [
    {
     "data": {
      "text/plain": [
       "[6, 60, 90, 120]"
      ]
     },
     "execution_count": 2,
     "metadata": {},
     "output_type": "execute_result"
    }
   ],
   "source": [
    "#5 que\n",
    "list1=[2, 3, 6, 9, 27, 60, 90, 120, 55, 46]\n",
    "list(filter(lambda x:x%2==0 and x%3==0,list1))\n"
   ]
  },
  {
   "cell_type": "code",
   "execution_count": 4,
   "id": "5183db1d-036f-4680-ad08-01d859c5b713",
   "metadata": {},
   "outputs": [],
   "source": [
    "#4 que\n",
    "\n",
    "p=range(1,26)"
   ]
  },
  {
   "cell_type": "code",
   "execution_count": 5,
   "id": "e2cc46ce-e610-4fb4-a773-407fac5fc2ab",
   "metadata": {},
   "outputs": [
    {
     "data": {
      "text/plain": [
       "15511210043330985984000000"
      ]
     },
     "execution_count": 5,
     "metadata": {},
     "output_type": "execute_result"
    }
   ],
   "source": [
    "from functools import reduce\n",
    "reduce(lambda x,y:x*y,p)\n"
   ]
  },
  {
   "cell_type": "code",
   "execution_count": 6,
   "id": "bb98fb27-193a-4398-a794-be35e32037d4",
   "metadata": {},
   "outputs": [
    {
     "data": {
      "text/plain": [
       "('1', '2', '3', '4', '5', '6', '7', '8', '9', '10')"
      ]
     },
     "execution_count": 6,
     "metadata": {},
     "output_type": "execute_result"
    }
   ],
   "source": [
    "#3 que\n",
    "number= [1, 2, 3, 4, 5, 6, 7, 8, 9, 10]\n",
    "tuple(map(lambda x:str(x),number))\n"
   ]
  },
  {
   "cell_type": "code",
   "execution_count": 8,
   "id": "a174a03e-2a83-406e-969a-ba908479fe6a",
   "metadata": {},
   "outputs": [
    {
     "data": {
      "text/plain": [
       "[1, 4, 9, 16, 25, 36, 49, 64, 81, 100]"
      ]
     },
     "execution_count": 8,
     "metadata": {},
     "output_type": "execute_result"
    }
   ],
   "source": [
    "#2 que\n",
    "l=[1, 2, 3, 4, 5, 6, 7, 8, 9, 10]\n",
    "list(map(lambda x:x**2,l))\n"
   ]
  },
  {
   "cell_type": "code",
   "execution_count": null,
   "id": "6f527fbb-0fe3-4c1b-8abf-73bc99cee74f",
   "metadata": {},
   "outputs": [],
   "source": []
  }
 ],
 "metadata": {
  "kernelspec": {
   "display_name": "Python 3 (ipykernel)",
   "language": "python",
   "name": "python3"
  },
  "language_info": {
   "codemirror_mode": {
    "name": "ipython",
    "version": 3
   },
   "file_extension": ".py",
   "mimetype": "text/x-python",
   "name": "python",
   "nbconvert_exporter": "python",
   "pygments_lexer": "ipython3",
   "version": "3.10.8"
  }
 },
 "nbformat": 4,
 "nbformat_minor": 5
}
