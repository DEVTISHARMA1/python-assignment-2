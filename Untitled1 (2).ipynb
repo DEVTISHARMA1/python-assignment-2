{
 "cells": [
  {
   "cell_type": "markdown",
   "id": "52bbf2d4-eb2c-40d0-affe-b264fe52cfe1",
   "metadata": {},
   "source": [
    "1 que\n",
    "GET and POST are two commonly used HTTP methods used in web development to send and receive data between clients (such as web browsers) and servers."
   ]
  },
  {
   "cell_type": "markdown",
   "id": "b5d2e369-1acf-4a53-ac1e-ecfc019e5dcc",
   "metadata": {},
   "source": [
    "2 que\n",
    "The request object allows Flask developers to access and process the data sent by clients in their requests"
   ]
  },
  {
   "cell_type": "markdown",
   "id": "e5e4ce88-7689-4b22-9a7c-4ee5ba3e662a",
   "metadata": {},
   "source": [
    "3 que\n",
    "In Flask, the redirect() function is used to redirect clients (usually web browsers) to a different URL. It is a utility function that helps in performing HTTP redirection, instructing the client to make a new request to the specified URL."
   ]
  },
  {
   "cell_type": "markdown",
   "id": "41529db0-e4e4-4882-b21e-7292ac10383d",
   "metadata": {},
   "source": [
    "4 que\n",
    "In Flask, templates are files that define the structure and layout of HTML pages and allow the dynamic insertion of data from the Python code into the HTML. Templates separate the presentation layer from the application's business logic, making it easier to maintain and update the user interface."
   ]
  }
 ],
 "metadata": {
  "kernelspec": {
   "display_name": "Python 3 (ipykernel)",
   "language": "python",
   "name": "python3"
  },
  "language_info": {
   "codemirror_mode": {
    "name": "ipython",
    "version": 3
   },
   "file_extension": ".py",
   "mimetype": "text/x-python",
   "name": "python",
   "nbconvert_exporter": "python",
   "pygments_lexer": "ipython3",
   "version": "3.10.8"
  }
 },
 "nbformat": 4,
 "nbformat_minor": 5
}
