{
 "cells": [
  {
   "cell_type": "markdown",
   "id": "7dda612c-2f55-4e6c-ba71-034875f4b961",
   "metadata": {},
   "source": [
    "1 que\n",
    "MongoDB is a popular, open-source, document-oriented NoSQL database management system. It is designed to store and manage unstructured or semi-structured data in the form of JSON-like documents. MongoDB provides high flexibility, scalability, and performance for handling large volumes of data across various applications and use cases.\n",
    "Non-relational databases, also known as NoSQL databases, are a category of databases that do not adhere to the traditional relational database model used in SQL databases. Unlike SQL databases, which store data in structured tables with fixed schemas, NoSQL databases offer more flexible data models, allowing data to be stored in various formats, such as key-value pairs, documents, column-family, and graph-based structures."
   ]
  },
  {
   "cell_type": "markdown",
   "id": "d6f6750e-230a-4d26-89ad-d52ebd567b6f",
   "metadata": {},
   "source": [
    "2 que\n",
    "a. Document-Oriented:\n",
    "b.High Scalability and Performance:\n",
    "c.No Schema Migration Hassles:\n",
    "d.Map-Reduce:\n"
   ]
  },
  {
   "cell_type": "markdown",
   "id": "4160949c-557d-44fa-bb84-8210c64ea98a",
   "metadata": {},
   "source": [
    "3 que\n",
    "import pymongo\n",
    "\n",
    "mongo_url = \"mongodb://localhost:27017/\"\n",
    "database_name = \"my_database\"\n",
    "collection_name = \"my_collection\"\n",
    "\n",
    "client = pymongo.MongoClient(mongo_url)\n",
    "print(\"Connected to MongoDB successfully!\")\n",
    "\n",
    "   "
   ]
  },
  {
   "cell_type": "markdown",
   "id": "3972ecb5-2eac-4622-8d6a-0d73d24c9489",
   "metadata": {},
   "source": [
    "4 que\n",
    "In MongoDB, the find() method is used to query the database and retrieve documents that match specific criteria. It allows you to filter and retrieve data from a collection based on specified conditions. The find() method is one of the most commonly used methods for querying data in MongoDB."
   ]
  },
  {
   "cell_type": "markdown",
   "id": "32db3a25-b86e-43e8-8aba-a1a156a59335",
   "metadata": {},
   "source": [
    "5 que\n"
   ]
  }
 ],
 "metadata": {
  "kernelspec": {
   "display_name": "Python 3 (ipykernel)",
   "language": "python",
   "name": "python3"
  },
  "language_info": {
   "codemirror_mode": {
    "name": "ipython",
    "version": 3
   },
   "file_extension": ".py",
   "mimetype": "text/x-python",
   "name": "python",
   "nbconvert_exporter": "python",
   "pygments_lexer": "ipython3",
   "version": "3.10.8"
  }
 },
 "nbformat": 4,
 "nbformat_minor": 5
}
