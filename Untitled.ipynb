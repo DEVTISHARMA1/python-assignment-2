{
 "cells": [
  {
   "cell_type": "code",
   "execution_count": 1,
   "id": "56accdf1-84be-4409-aa98-9d9539f0d455",
   "metadata": {},
   "outputs": [
    {
     "data": {
      "text/plain": [
       "['php', 'aba', 'radar', 'level']"
      ]
     },
     "execution_count": 1,
     "metadata": {},
     "output_type": "execute_result"
    }
   ],
   "source": [
    "#6 que\n",
    "my=['python', 'php', 'aba', 'radar', 'level']\n",
    "list(filter(lambda x:x==x[::-1],my))\n"
   ]
  },
  {
   "cell_type": "code",
   "execution_count": 2,
   "id": "de8b06a5-2a14-4cb8-9f93-d4cc7ec7f6b4",
   "metadata": {},
   "outputs": [
    {
     "data": {
      "text/plain": [
       "[6, 60, 90, 120]"
      ]
     },
     "execution_count": 2,
     "metadata": {},
     "output_type": "execute_result"
    }
   ],
   "source": [
    "#5 que\n",
    "list1=[2, 3, 6, 9, 27, 60, 90, 120, 55, 46]\n",
    "list(filter(lambda x:x%2==0 and x%3==0,list1))\n"
   ]
  },
  {
   "cell_type": "code",
   "execution_count": 4,
   "id": "5183db1d-036f-4680-ad08-01d859c5b713",
   "metadata": {},
   "outputs": [],
   "source": [
    "#4 que\n",
    "\n",
    "p=range(1,26)"
   ]
  },
  {
   "cell_type": "code",
   "execution_count": null,
   "id": "e2cc46ce-e610-4fb4-a773-407fac5fc2ab",
   "metadata": {},
   "outputs": [],
   "source": []
  }
 ],
 "metadata": {
  "kernelspec": {
   "display_name": "Python 3 (ipykernel)",
   "language": "python",
   "name": "python3"
  },
  "language_info": {
   "codemirror_mode": {
    "name": "ipython",
    "version": 3
   },
   "file_extension": ".py",
   "mimetype": "text/x-python",
   "name": "python",
   "nbconvert_exporter": "python",
   "pygments_lexer": "ipython3",
   "version": "3.10.8"
  }
 },
 "nbformat": 4,
 "nbformat_minor": 5
}
