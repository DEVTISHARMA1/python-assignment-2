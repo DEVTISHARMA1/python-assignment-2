{
 "cells": [
  {
   "cell_type": "code",
   "execution_count": null,
   "id": "ad50e800-2cf9-4b91-b44d-863938298b6a",
   "metadata": {},
   "outputs": [],
   "source": [
    "#1 que\n",
    "#        A database is a structured collection of data that is organized and stored in a way \n",
    "#        that allows efficient retrieval and manipulation of information. \n",
    "#     the main differences between SQL and NoSQL databases lie in their data models, schema \n",
    "#    flexibility, query languages, and transaction support. SQL databases are suitable for applications \n",
    "#   with complex relationships and structured data, while NoSQL databases excel in scenarios that require\n",
    "#   flexible data modeling and horizontal scalability. The choice between SQL and NoSQL databases depends on\n",
    "#    the specific requirements and nature of the application."
   ]
  },
  {
   "cell_type": "markdown",
   "id": "c35db929-3fe7-4688-a990-02ec0c43c2b4",
   "metadata": {},
   "source": [
    "# 2 que\n",
    "\n",
    "DDL stands for Data Definition Language. It is a subset of SQL (Structured Query Language) used for defining and managing the structure of databases and database objects. DDL commands are used to create, modify, and delete database objects such as tables, indexes, and views."
   ]
  },
  {
   "cell_type": "markdown",
   "id": "8cf69a69-981a-476e-a838-c2cc96f1e593",
   "metadata": {},
   "source": [
    "3 que\n",
    "DML stands for Data Manipulation Language. It is a subset of SQL used for interacting with the data stored in the database. DML commands are used to insert, update, and delete data in database tables."
   ]
  },
  {
   "cell_type": "markdown",
   "id": "6efaf493-4c47-4a23-92b9-e54878473b70",
   "metadata": {},
   "source": [
    "4 que\n",
    "DQL stands for Data Query Language. It is a subset of SQL (Structured Query Language) used for querying and retrieving data from a database.\n",
    "The SELECT command is powerful and versatile, allowing developers to retrieve and filter data based on specific conditions, sort the output, perform calculations, and join data from multiple tables using various SQL clauses and functions"
   ]
  },
  {
   "cell_type": "markdown",
   "id": "275a152b-dfd6-49ae-b957-b7bbe2d57eb9",
   "metadata": {},
   "source": [
    "5 que\n",
    "A primary key is a unique identifier for each record (row) in a database table. It serves as a means of uniquely identifying individual rows, ensuring that each row has a distinct and non-null value for the primary key column"
   ]
  },
  {
   "cell_type": "markdown",
   "id": "e31852fd-3e67-4f79-b176-486c18f326e2",
   "metadata": {},
   "source": [
    "6que\n",
    "import mysql.connector\n",
    "mydb=mysql.connector.connect(host='localhost',user='abc',password='password')"
   ]
  },
  {
   "cell_type": "code",
   "execution_count": null,
   "id": "2c7be823-45db-47aa-96a2-372a7367d4f5",
   "metadata": {},
   "outputs": [],
   "source": []
  }
 ],
 "metadata": {
  "kernelspec": {
   "display_name": "Python 3 (ipykernel)",
   "language": "python",
   "name": "python3"
  },
  "language_info": {
   "codemirror_mode": {
    "name": "ipython",
    "version": 3
   },
   "file_extension": ".py",
   "mimetype": "text/x-python",
   "name": "python",
   "nbconvert_exporter": "python",
   "pygments_lexer": "ipython3",
   "version": "3.10.8"
  }
 },
 "nbformat": 4,
 "nbformat_minor": 5
}
